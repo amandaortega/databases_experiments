{
 "metadata": {
  "language_info": {
   "codemirror_mode": {
    "name": "ipython",
    "version": 3
   },
   "file_extension": ".py",
   "mimetype": "text/x-python",
   "name": "python",
   "nbconvert_exporter": "python",
   "pygments_lexer": "ipython3",
   "version": "3.6.9-final"
  },
  "orig_nbformat": 2,
  "kernelspec": {
   "name": "python_defaultSpec_1598902979656",
   "display_name": "Python 3.6.9 64-bit"
  }
 },
 "nbformat": 4,
 "nbformat_minor": 2,
 "cells": [
  {
   "cell_type": "code",
   "execution_count": 1,
   "metadata": {},
   "outputs": [],
   "source": [
    "import numpy as np\n",
    "import pandas as pd"
   ]
  },
  {
   "cell_type": "code",
   "execution_count": 5,
   "metadata": {
    "tags": []
   },
   "outputs": [
    {
     "output_type": "stream",
     "name": "stdout",
     "text": "['Nd(k-1)', 'Alpha(k-1)', 'Fm(k-1)', 'Te(k-1)', 'Tl(k-1)', 'N(k-1)', 'Tgas(k-1)', 'COL(k-1)', 'CO2(k-1)', 'COH(k-1)', 'NOx(k-1)', 'P1mean(k-1)', 'P1max(k-1)', 'P1offset(k-1)', 'P2mean(k-1)', 'P2max(k-1)', 'P2offset(k-1)', 'Nd(k-2)', 'Alpha(k-2)', 'Fm(k-2)', 'Te(k-2)', 'Tl(k-2)', 'N(k-2)', 'Tgas(k-2)', 'COL(k-2)', 'CO2(k-2)', 'COH(k-2)', 'NOx(k-2)', 'P1mean(k-2)', 'P1max(k-2)', 'P1offset(k-2)', 'P2mean(k-2)', 'P2max(k-2)', 'P2offset(k-2)', 'Nd(k-3)', 'Alpha(k-3)', 'Fm(k-3)', 'Te(k-3)', 'Tl(k-3)', 'N(k-3)', 'Tgas(k-3)', 'COL(k-3)', 'CO2(k-3)', 'COH(k-3)', 'NOx(k-3)', 'P1mean(k-3)', 'P1max(k-3)', 'P1offset(k-3)', 'P2mean(k-3)', 'P2max(k-3)', 'P2offset(k-3)', 'Nd(k-4)', 'Alpha(k-4)', 'Fm(k-4)', 'Te(k-4)', 'Tl(k-4)', 'N(k-4)', 'Tgas(k-4)', 'COL(k-4)', 'CO2(k-4)', 'COH(k-4)', 'NOx(k-4)', 'P1mean(k-4)', 'P1max(k-4)', 'P1offset(k-4)', 'P2mean(k-4)', 'P2max(k-4)', 'P2offset(k-4)', 'Nd(k-5)', 'Alpha(k-5)', 'Fm(k-5)', 'Te(k-5)', 'Tl(k-5)', 'N(k-5)', 'Tgas(k-5)', 'COL(k-5)', 'CO2(k-5)', 'COH(k-5)', 'NOx(k-5)', 'P1mean(k-5)', 'P1max(k-5)', 'P1offset(k-5)', 'P2mean(k-5)', 'P2max(k-5)', 'P2offset(k-5)', 'Nd(k-6)', 'Alpha(k-6)', 'Fm(k-6)', 'Te(k-6)', 'Tl(k-6)', 'N(k-6)', 'Tgas(k-6)', 'COL(k-6)', 'CO2(k-6)', 'COH(k-6)', 'NOx(k-6)', 'P1mean(k-6)', 'P1max(k-6)', 'P1offset(k-6)', 'P2mean(k-6)', 'P2max(k-6)', 'P2offset(k-6)', 'Nd(k-7)', 'Alpha(k-7)', 'Fm(k-7)', 'Te(k-7)', 'Tl(k-7)', 'N(k-7)', 'Tgas(k-7)', 'COL(k-7)', 'CO2(k-7)', 'COH(k-7)', 'NOx(k-7)', 'P1mean(k-7)', 'P1max(k-7)', 'P1offset(k-7)', 'P2mean(k-7)', 'P2max(k-7)', 'P2offset(k-7)', 'Nd(k-8)', 'Alpha(k-8)', 'Fm(k-8)', 'Te(k-8)', 'Tl(k-8)', 'N(k-8)', 'Tgas(k-8)', 'COL(k-8)', 'CO2(k-8)', 'COH(k-8)', 'NOx(k-8)', 'P1mean(k-8)', 'P1max(k-8)', 'P1offset(k-8)', 'P2mean(k-8)', 'P2max(k-8)', 'P2offset(k-8)', 'Nd(k-9)', 'Alpha(k-9)', 'Fm(k-9)', 'Te(k-9)', 'Tl(k-9)', 'N(k-9)', 'Tgas(k-9)', 'COL(k-9)', 'CO2(k-9)', 'COH(k-9)', 'NOx(k-9)', 'P1mean(k-9)', 'P1max(k-9)', 'P1offset(k-9)', 'P2mean(k-9)', 'P2max(k-9)', 'P2offset(k-9)', 'Nd(k-10)', 'Alpha(k-10)', 'Fm(k-10)', 'Te(k-10)', 'Tl(k-10)', 'N(k-10)', 'Tgas(k-10)', 'COL(k-10)', 'CO2(k-10)', 'COH(k-10)', 'NOx(k-10)', 'P1mean(k-10)', 'P1max(k-10)', 'P1offset(k-10)', 'P2mean(k-10)', 'P2max(k-10)', 'P2offset(k-10)', 'NOx(k)\\n']\n"
    }
   ],
   "source": [
    "dataset_path = '/home/amanda/Dropbox/trabalho/testes/aplicacoes/nox/NOX_labels_mod.txt'\n",
    "header = open(dataset_path).read().split(';')\n",
    "print(header)"
   ]
  },
  {
   "cell_type": "code",
   "execution_count": 7,
   "metadata": {
    "tags": []
   },
   "outputs": [
    {
     "output_type": "stream",
     "name": "stdout",
     "text": "(667, 171)\n"
    }
   ],
   "source": [
    "dataset_path = '/home/amanda/Dropbox/trabalho/testes/aplicacoes/nox/NOX_traindata_mod.txt'\n",
    "train = np.loadtxt(dataset_path)\n",
    "print(train.shape)"
   ]
  },
  {
   "cell_type": "code",
   "execution_count": 9,
   "metadata": {
    "tags": []
   },
   "outputs": [
    {
     "output_type": "stream",
     "name": "stdout",
     "text": "(159, 171)\n"
    }
   ],
   "source": [
    "dataset_path = '/home/amanda/Dropbox/trabalho/testes/aplicacoes/nox/NOX_testdata_mod.txt'\n",
    "test = np.loadtxt(dataset_path)\n",
    "print(test.shape)"
   ]
  },
  {
   "cell_type": "code",
   "execution_count": 10,
   "metadata": {
    "tags": []
   },
   "outputs": [
    {
     "output_type": "stream",
     "name": "stdout",
     "text": "(826, 171)\n"
    }
   ],
   "source": [
    "data = np.concatenate((train, test), axis=0)\n",
    "print(data.shape)"
   ]
  },
  {
   "cell_type": "code",
   "execution_count": 11,
   "metadata": {},
   "outputs": [
    {
     "output_type": "execute_result",
     "data": {
      "text/plain": "     Nd(k-1)  Alpha(k-1)  Fm(k-1)  Te(k-1)  Tl(k-1)  N(k-1)  Tgas(k-1)  \\\n821   1947.0        45.1     3.25    118.7    100.0  1970.0      369.8   \n822   2100.0        38.5     5.69    106.4    100.0  2105.0      373.1   \n823   2284.0        28.6     5.69    102.6    100.0  2284.0      374.4   \n824   2260.0        32.3     6.40    104.7    100.0  2263.0      371.3   \n825   1810.0        19.1     5.47     84.2    100.0  1788.0      368.5   \n\n     COL(k-1)  CO2(k-1)  COH(k-1)  ...  CO2(k-10)  COH(k-10)  NOx(k-10)  \\\n821     34.93   64600.0     87.91  ...    79890.0      84.67      277.7   \n822     34.59   70060.0     77.74  ...    54880.0      82.54      195.6   \n823     34.64   66130.0     86.22  ...    74720.0      75.17      265.5   \n824     34.38   66380.0     80.06  ...    70170.0      74.06      232.9   \n825     34.11   46230.0     79.51  ...    84050.0      82.34      304.4   \n\n     P1mean(k-10)  P1max(k-10)  P1offset(k-10)  P2mean(k-10)  P2max(k-10)  \\\n821        8.2990       77.723         -6.1484        8.1316       78.311   \n822        6.6068       64.658         -6.7270        6.3994       64.814   \n823        6.8248       66.446         -6.3528        6.9936       67.158   \n824        8.5650       76.190         -6.5588        8.3460       76.572   \n825        7.1960       71.109         -6.1315        6.8990       70.622   \n\n     P2offset(k-10)  NOx(k)\\n  \n821         -5.3049     253.3  \n822         -5.6222     252.6  \n823         -5.5839     237.5  \n824         -5.5072     187.3  \n825         -5.1667     308.1  \n\n[5 rows x 171 columns]",
      "text/html": "<div>\n<style scoped>\n    .dataframe tbody tr th:only-of-type {\n        vertical-align: middle;\n    }\n\n    .dataframe tbody tr th {\n        vertical-align: top;\n    }\n\n    .dataframe thead th {\n        text-align: right;\n    }\n</style>\n<table border=\"1\" class=\"dataframe\">\n  <thead>\n    <tr style=\"text-align: right;\">\n      <th></th>\n      <th>Nd(k-1)</th>\n      <th>Alpha(k-1)</th>\n      <th>Fm(k-1)</th>\n      <th>Te(k-1)</th>\n      <th>Tl(k-1)</th>\n      <th>N(k-1)</th>\n      <th>Tgas(k-1)</th>\n      <th>COL(k-1)</th>\n      <th>CO2(k-1)</th>\n      <th>COH(k-1)</th>\n      <th>...</th>\n      <th>CO2(k-10)</th>\n      <th>COH(k-10)</th>\n      <th>NOx(k-10)</th>\n      <th>P1mean(k-10)</th>\n      <th>P1max(k-10)</th>\n      <th>P1offset(k-10)</th>\n      <th>P2mean(k-10)</th>\n      <th>P2max(k-10)</th>\n      <th>P2offset(k-10)</th>\n      <th>NOx(k)\\n</th>\n    </tr>\n  </thead>\n  <tbody>\n    <tr>\n      <th>821</th>\n      <td>1947.0</td>\n      <td>45.1</td>\n      <td>3.25</td>\n      <td>118.7</td>\n      <td>100.0</td>\n      <td>1970.0</td>\n      <td>369.8</td>\n      <td>34.93</td>\n      <td>64600.0</td>\n      <td>87.91</td>\n      <td>...</td>\n      <td>79890.0</td>\n      <td>84.67</td>\n      <td>277.7</td>\n      <td>8.2990</td>\n      <td>77.723</td>\n      <td>-6.1484</td>\n      <td>8.1316</td>\n      <td>78.311</td>\n      <td>-5.3049</td>\n      <td>253.3</td>\n    </tr>\n    <tr>\n      <th>822</th>\n      <td>2100.0</td>\n      <td>38.5</td>\n      <td>5.69</td>\n      <td>106.4</td>\n      <td>100.0</td>\n      <td>2105.0</td>\n      <td>373.1</td>\n      <td>34.59</td>\n      <td>70060.0</td>\n      <td>77.74</td>\n      <td>...</td>\n      <td>54880.0</td>\n      <td>82.54</td>\n      <td>195.6</td>\n      <td>6.6068</td>\n      <td>64.658</td>\n      <td>-6.7270</td>\n      <td>6.3994</td>\n      <td>64.814</td>\n      <td>-5.6222</td>\n      <td>252.6</td>\n    </tr>\n    <tr>\n      <th>823</th>\n      <td>2284.0</td>\n      <td>28.6</td>\n      <td>5.69</td>\n      <td>102.6</td>\n      <td>100.0</td>\n      <td>2284.0</td>\n      <td>374.4</td>\n      <td>34.64</td>\n      <td>66130.0</td>\n      <td>86.22</td>\n      <td>...</td>\n      <td>74720.0</td>\n      <td>75.17</td>\n      <td>265.5</td>\n      <td>6.8248</td>\n      <td>66.446</td>\n      <td>-6.3528</td>\n      <td>6.9936</td>\n      <td>67.158</td>\n      <td>-5.5839</td>\n      <td>237.5</td>\n    </tr>\n    <tr>\n      <th>824</th>\n      <td>2260.0</td>\n      <td>32.3</td>\n      <td>6.40</td>\n      <td>104.7</td>\n      <td>100.0</td>\n      <td>2263.0</td>\n      <td>371.3</td>\n      <td>34.38</td>\n      <td>66380.0</td>\n      <td>80.06</td>\n      <td>...</td>\n      <td>70170.0</td>\n      <td>74.06</td>\n      <td>232.9</td>\n      <td>8.5650</td>\n      <td>76.190</td>\n      <td>-6.5588</td>\n      <td>8.3460</td>\n      <td>76.572</td>\n      <td>-5.5072</td>\n      <td>187.3</td>\n    </tr>\n    <tr>\n      <th>825</th>\n      <td>1810.0</td>\n      <td>19.1</td>\n      <td>5.47</td>\n      <td>84.2</td>\n      <td>100.0</td>\n      <td>1788.0</td>\n      <td>368.5</td>\n      <td>34.11</td>\n      <td>46230.0</td>\n      <td>79.51</td>\n      <td>...</td>\n      <td>84050.0</td>\n      <td>82.34</td>\n      <td>304.4</td>\n      <td>7.1960</td>\n      <td>71.109</td>\n      <td>-6.1315</td>\n      <td>6.8990</td>\n      <td>70.622</td>\n      <td>-5.1667</td>\n      <td>308.1</td>\n    </tr>\n  </tbody>\n</table>\n<p>5 rows × 171 columns</p>\n</div>"
     },
     "metadata": {},
     "execution_count": 11
    }
   ],
   "source": [
    "df = pd.DataFrame(data, columns=header)\n",
    "df.tail()"
   ]
  },
  {
   "cell_type": "code",
   "execution_count": 12,
   "metadata": {},
   "outputs": [],
   "source": [
    "df.to_csv('/home/amanda/Dropbox/trabalho/testes/aplicacoes/nox/NOX.csv')"
   ]
  },
  {
   "cell_type": "code",
   "execution_count": 20,
   "metadata": {},
   "outputs": [],
   "source": [
    "import numpy as np\n",
    "import os\n",
    "\n",
    "def save(path, X, Y):\n",
    "    if not os.path.exists(path):\n",
    "        os.makedirs(path)\n",
    "\n",
    "    np.savetxt(path + 'X.csv', X)\n",
    "    np.savetxt(path + 'Y.csv', Y)"
   ]
  },
  {
   "cell_type": "code",
   "execution_count": 22,
   "metadata": {},
   "outputs": [],
   "source": [
    "X = df.loc[:, ['Te(k-5)', 'P2offset(k-5)', 'N(k-4)', 'Alpha(k-6)', 'Tgas(k-9)']].to_numpy()\n",
    "Y = df.loc[:, 'NOx(k)\\n'].to_numpy()\n",
    "\n",
    "path = '/home/amanda/Dropbox/trabalho/testes/aplicacoes/nox/data/'\n",
    "save(path, X, Y)\n",
    "\n",
    "path = '/home/amanda/Dropbox/trabalho/codigos/propostas/EVeP/data/NOX/'\n",
    "save(path, X, Y)"
   ]
  },
  {
   "cell_type": "code",
   "execution_count": null,
   "metadata": {},
   "outputs": [],
   "source": []
  }
 ]
}