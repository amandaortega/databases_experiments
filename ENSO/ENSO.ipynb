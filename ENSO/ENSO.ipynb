{
 "metadata": {
  "language_info": {
   "codemirror_mode": {
    "name": "ipython",
    "version": 3
   },
   "file_extension": ".py",
   "mimetype": "text/x-python",
   "name": "python",
   "nbconvert_exporter": "python",
   "pygments_lexer": "ipython3",
   "version": "3.8.5-final"
  },
  "orig_nbformat": 2,
  "kernelspec": {
   "name": "python38264bitc05b5b8a8cb5436a99cd3147d5a13f75",
   "display_name": "Python 3.8.2 64-bit"
  }
 },
 "nbformat": 4,
 "nbformat_minor": 2,
 "cells": [
  {
   "cell_type": "code",
   "execution_count": 1,
   "metadata": {},
   "outputs": [],
   "source": [
    "# Generate X and Y bases according to the series passed and the paramters tau (time delay), m (embedding dimension) and k (number of steps ahead to predict)\n",
    "def generate_bases(serie, tau, m, k):\n",
    "    N = serie.size\n",
    "\n",
    "    X = np.zeros((N - k - (m - 1) * tau, m))\n",
    "    Y = np.zeros(N - k - (m - 1) * tau)\n",
    "\n",
    "    for key, i in enumerate(range((m - 1) * tau, N - k)):\n",
    "        for m_ in range(m):\n",
    "            X[key, m_] = serie[i - m_ * tau]\n",
    "        Y[key] = serie[i + k]\n",
    "    \n",
    "    return (X, Y)"
   ]
  },
  {
   "cell_type": "code",
   "execution_count": 11,
   "metadata": {},
   "outputs": [],
   "source": [
    "import numpy as np\n",
    "import os\n",
    "import pandas as pd\n",
    "from sklearn.model_selection import train_test_split\n",
    "\n",
    "def create_bases(input_path, output_path, rows_skip=1, footer_skip=8):\n",
    "    df = pd.read_csv(input_path, skiprows=rows_skip, skipfooter=footer_skip, names=['Year', '01', '02', '03', '04', '05', '06', '07', '08', '09', '10', '11', '12'], delimiter=r\"\\s+\")\n",
    "\n",
    "    df = df[(df['Year'] >= 1949) & (df['Year'] <= 2014)]\n",
    "    base = df.to_numpy()[:, 1:].reshape(-1)\n",
    "    try:\n",
    "        np.savetxt(output_path + 'serie.csv', base)\n",
    "    except Exception:\n",
    "        os.mkdir(output_path)\n",
    "\n",
    "    (X, Y) = generate_bases(base, 3, 2, 5)\n",
    "    X_train, X_test, Y_train, Y_test = train_test_split(X, Y, train_size=0.8, shuffle=False)    \n",
    "\n",
    "    np.savetxt(output_path + 'X_train.csv', X_train)\n",
    "    np.savetxt(output_path + 'Y_train.csv', Y_train)\n",
    "    np.savetxt(output_path + 'X_test.csv', X_test)\n",
    "    np.savetxt(output_path + 'Y_test.csv', Y_test)    "
   ]
  },
  {
   "cell_type": "code",
   "execution_count": 10,
   "metadata": {},
   "outputs": [
    {
     "output_type": "error",
     "ename": "TypeError",
     "evalue": "create_bases() takes 2 positional arguments but 4 were given",
     "traceback": [
      "\u001b[0;31m---------------------------------------------------------------------------\u001b[0m",
      "\u001b[0;31mTypeError\u001b[0m                                 Traceback (most recent call last)",
      "\u001b[0;32m<ipython-input-10-fb38be2216c8>\u001b[0m in \u001b[0;36m<module>\u001b[0;34m\u001b[0m\n\u001b[1;32m      4\u001b[0m \u001b[0mcreate_bases\u001b[0m\u001b[0;34m(\u001b[0m\u001b[0;34m'Nino4.csv'\u001b[0m\u001b[0;34m,\u001b[0m \u001b[0;34m'data/nino4/'\u001b[0m\u001b[0;34m)\u001b[0m\u001b[0;34m\u001b[0m\u001b[0;34m\u001b[0m\u001b[0m\n\u001b[1;32m      5\u001b[0m \u001b[0mcreate_bases\u001b[0m\u001b[0;34m(\u001b[0m\u001b[0;34m'PDO.csv'\u001b[0m\u001b[0;34m,\u001b[0m \u001b[0;34m'data/pdo/'\u001b[0m\u001b[0;34m)\u001b[0m\u001b[0;34m\u001b[0m\u001b[0;34m\u001b[0m\u001b[0m\n\u001b[0;32m----> 6\u001b[0;31m \u001b[0mcreate_bases\u001b[0m\u001b[0;34m(\u001b[0m\u001b[0;34m'SOI.csv'\u001b[0m\u001b[0;34m,\u001b[0m \u001b[0;34m'data/soi/'\u001b[0m\u001b[0;34m,\u001b[0m \u001b[0;36m4\u001b[0m\u001b[0;34m,\u001b[0m \u001b[0;36m1\u001b[0m\u001b[0;34m)\u001b[0m\u001b[0;34m\u001b[0m\u001b[0;34m\u001b[0m\u001b[0m\n\u001b[0m",
      "\u001b[0;31mTypeError\u001b[0m: create_bases() takes 2 positional arguments but 4 were given"
     ]
    }
   ],
   "source": [
    "create_bases('Nino 1+2.csv', 'data/nino12/')\n",
    "create_bases('Nino3.4.csv', 'data/nino34/')\n",
    "create_bases('Nino3.csv', 'data/nino3/')\n",
    "create_bases('Nino4.csv', 'data/nino4/')\n",
    "create_bases('PDO.csv', 'data/pdo/')\n",
    "create_bases('SOI.csv', 'data/soi/', 4, 1)"
   ]
  },
  {
   "cell_type": "code",
   "execution_count": null,
   "metadata": {},
   "outputs": [],
   "source": []
  }
 ]
}