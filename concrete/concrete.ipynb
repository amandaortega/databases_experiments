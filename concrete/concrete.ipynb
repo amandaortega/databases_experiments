{
 "metadata": {
  "language_info": {
   "codemirror_mode": {
    "name": "ipython",
    "version": 3
   },
   "file_extension": ".py",
   "mimetype": "text/x-python",
   "name": "python",
   "nbconvert_exporter": "python",
   "pygments_lexer": "ipython3",
   "version": "3.6.9-final"
  },
  "orig_nbformat": 2,
  "kernelspec": {
   "name": "python_defaultSpec_1598474574160",
   "display_name": "Python 3.6.9 64-bit"
  }
 },
 "nbformat": 4,
 "nbformat_minor": 2,
 "cells": [
  {
   "cell_type": "code",
   "execution_count": 1,
   "metadata": {},
   "outputs": [],
   "source": [
    "import pandas as pd\n",
    "\n",
    "concrete = pd.read_excel('Concrete_Data.xls')"
   ]
  },
  {
   "cell_type": "code",
   "execution_count": 2,
   "metadata": {
    "tags": []
   },
   "outputs": [
    {
     "output_type": "stream",
     "name": "stdout",
     "text": "Cement (component 1)(kg in a m^3 mixture)  \\\n0                                         540.0   \n1                                         540.0   \n2                                         332.5   \n3                                         332.5   \n4                                         198.6   \n...                                         ...   \n1025                                      276.4   \n1026                                      322.2   \n1027                                      148.5   \n1028                                      159.1   \n1029                                      260.9   \n\n      Blast Furnace Slag (component 2)(kg in a m^3 mixture)  \\\n0                                                   0.0       \n1                                                   0.0       \n2                                                 142.5       \n3                                                 142.5       \n4                                                 132.4       \n...                                                 ...       \n1025                                              116.0       \n1026                                                0.0       \n1027                                              139.4       \n1028                                              186.7       \n1029                                              100.5       \n\n      Fly Ash (component 3)(kg in a m^3 mixture)  \\\n0                                            0.0   \n1                                            0.0   \n2                                            0.0   \n3                                            0.0   \n4                                            0.0   \n...                                          ...   \n1025                                        90.3   \n1026                                       115.6   \n1027                                       108.6   \n1028                                         0.0   \n1029                                        78.3   \n\n      Water  (component 4)(kg in a m^3 mixture)  \\\n0                                         162.0   \n1                                         162.0   \n2                                         228.0   \n3                                         228.0   \n4                                         192.0   \n...                                         ...   \n1025                                      179.6   \n1026                                      196.0   \n1027                                      192.7   \n1028                                      175.6   \n1029                                      200.6   \n\n      Superplasticizer (component 5)(kg in a m^3 mixture)  \\\n0                                                   2.5     \n1                                                   2.5     \n2                                                   0.0     \n3                                                   0.0     \n4                                                   0.0     \n...                                                 ...     \n1025                                                8.9     \n1026                                               10.4     \n1027                                                6.1     \n1028                                               11.3     \n1029                                                8.6     \n\n      Coarse Aggregate  (component 6)(kg in a m^3 mixture)  \\\n0                                                1040.0      \n1                                                1055.0      \n2                                                 932.0      \n3                                                 932.0      \n4                                                 978.4      \n...                                                 ...      \n1025                                              870.1      \n1026                                              817.9      \n1027                                              892.4      \n1028                                              989.6      \n1029                                              864.5      \n\n      Fine Aggregate (component 7)(kg in a m^3 mixture)  Age (day)  \\\n0                                                 676.0         28   \n1                                                 676.0         28   \n2                                                 594.0        270   \n3                                                 594.0        365   \n4                                                 825.5        360   \n...                                                 ...        ...   \n1025                                              768.3         28   \n1026                                              813.4         28   \n1027                                              780.0         28   \n1028                                              788.9         28   \n1029                                              761.5         28   \n\n      Concrete compressive strength(MPa, megapascals)   \n0                                            79.986111  \n1                                            61.887366  \n2                                            40.269535  \n3                                            41.052780  \n4                                            44.296075  \n...                                                ...  \n1025                                         44.284354  \n1026                                         31.178794  \n1027                                         23.696601  \n1028                                         32.768036  \n1029                                         32.401235  \n\n[1030 rows x 9 columns]\n"
    }
   ],
   "source": [
    "print(concrete)"
   ]
  },
  {
   "cell_type": "code",
   "execution_count": 3,
   "metadata": {},
   "outputs": [],
   "source": [
    "concrete.to_csv('concrete.csv')"
   ]
  },
  {
   "cell_type": "code",
   "execution_count": 4,
   "metadata": {},
   "outputs": [],
   "source": [
    "import numpy as np\n",
    "import os\n",
    "\n",
    "def save(path, X, Y):\n",
    "    if not os.path.exists(path):\n",
    "        os.makedirs(path)\n",
    "\n",
    "    np.savetxt(path + 'X.csv', X)\n",
    "    np.savetxt(path + 'Y.csv', Y)"
   ]
  },
  {
   "cell_type": "code",
   "execution_count": 6,
   "metadata": {},
   "outputs": [],
   "source": [
    "X = concrete.iloc[:, :-1].to_numpy()\n",
    "Y = concrete.iloc[:, -1].to_numpy()\n",
    "\n",
    "path = '/home/amanda/Dropbox/trabalho/testes/aplicacoes/concrete/data/'\n",
    "save(path, X, Y)\n",
    "\n",
    "path = '/home/amanda/Dropbox/trabalho/codigos/propostas/EVeP/data/concrete/'\n",
    "save(path, X, Y)"
   ]
  },
  {
   "cell_type": "code",
   "execution_count": null,
   "metadata": {},
   "outputs": [],
   "source": []
  }
 ]
}